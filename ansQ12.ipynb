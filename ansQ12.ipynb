{
 "cells": [
  {
   "cell_type": "markdown",
   "id": "06145869-9fe3-4343-a931-97c9735a666a",
   "metadata": {},
   "source": [
    "q12: Try to explore a meaning of \"-> \" this sinnature in python "
   ]
  },
  {
   "cell_type": "markdown",
   "id": "f86d7854-8e35-4030-a98e-98d6b06fe207",
   "metadata": {},
   "source": [
    "-> in Python is used for annotations of return values of functions  - these are nothing but the metadata. It does not play any role in the logic of the code but serves as documentation."
   ]
  },
  {
   "cell_type": "code",
   "execution_count": 1,
   "id": "f0873d5a-c71f-43e6-9c6c-002edf08d83c",
   "metadata": {},
   "outputs": [],
   "source": [
    "def add(a: int, b: int) -> int:\n",
    "    return a+b"
   ]
  },
  {
   "cell_type": "code",
   "execution_count": 2,
   "id": "4dd22909-cb35-4799-a02c-c58ea5f2d705",
   "metadata": {},
   "outputs": [],
   "source": [
    "def greet() -> \"Welcome message\":\n",
    "    print(\"Hello world ! Welcome\")"
   ]
  },
  {
   "cell_type": "code",
   "execution_count": 3,
   "id": "b395e0d3-a161-4866-8d9e-13e43f7d0d9b",
   "metadata": {},
   "outputs": [
    {
     "data": {
      "text/plain": [
       "{'a': int, 'b': int, 'return': int}"
      ]
     },
     "execution_count": 3,
     "metadata": {},
     "output_type": "execute_result"
    }
   ],
   "source": [
    "add.__annotations__"
   ]
  },
  {
   "cell_type": "code",
   "execution_count": 4,
   "id": "14b2509f-e34b-4639-94eb-808a817af108",
   "metadata": {},
   "outputs": [
    {
     "data": {
      "text/plain": [
       "{'return': 'Welcome message'}"
      ]
     },
     "execution_count": 4,
     "metadata": {},
     "output_type": "execute_result"
    }
   ],
   "source": [
    "greet.__annotations__"
   ]
  }
 ],
 "metadata": {
  "kernelspec": {
   "display_name": "Python 3 (ipykernel)",
   "language": "python",
   "name": "python3"
  },
  "language_info": {
   "codemirror_mode": {
    "name": "ipython",
    "version": 3
   },
   "file_extension": ".py",
   "mimetype": "text/x-python",
   "name": "python",
   "nbconvert_exporter": "python",
   "pygments_lexer": "ipython3",
   "version": "3.9.13"
  }
 },
 "nbformat": 4,
 "nbformat_minor": 5
}
